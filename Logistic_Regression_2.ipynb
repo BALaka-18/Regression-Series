{
  "nbformat": 4,
  "nbformat_minor": 0,
  "metadata": {
    "colab": {
      "name": "Logistic_Regression_2.ipynb",
      "provenance": [],
      "collapsed_sections": []
    },
    "kernelspec": {
      "name": "python3",
      "display_name": "Python 3"
    }
  },
  "cells": [
    {
      "cell_type": "code",
      "metadata": {
        "id": "xdJQNMmBsiDP",
        "colab_type": "code",
        "colab": {}
      },
      "source": [
        "import pandas as pd\n",
        "import numpy as np\n",
        "import matplotlib as ml\n",
        "import matplotlib.pyplot as plt\n",
        "import seaborn as sns\n",
        "%matplotlib inline\n",
        "ml.style.use('fivethirtyeight')\n",
        "\n",
        "from sklearn.model_selection import train_test_split,cross_val_score\n",
        "from sklearn.metrics import accuracy_score"
      ],
      "execution_count": 40,
      "outputs": []
    },
    {
      "cell_type": "code",
      "metadata": {
        "id": "LkznxxqZuZ9V",
        "colab_type": "code",
        "colab": {
          "base_uri": "https://localhost:8080/",
          "height": 202
        },
        "outputId": "245ae925-37ba-41d0-a88f-04382a4b02aa"
      },
      "source": [
        "data = pd.read_csv('/content/drive/My Drive/dataset.csv')\n",
        "data.head()"
      ],
      "execution_count": 15,
      "outputs": [
        {
          "output_type": "execute_result",
          "data": {
            "text/html": [
              "<div>\n",
              "<style scoped>\n",
              "    .dataframe tbody tr th:only-of-type {\n",
              "        vertical-align: middle;\n",
              "    }\n",
              "\n",
              "    .dataframe tbody tr th {\n",
              "        vertical-align: top;\n",
              "    }\n",
              "\n",
              "    .dataframe thead th {\n",
              "        text-align: right;\n",
              "    }\n",
              "</style>\n",
              "<table border=\"1\" class=\"dataframe\">\n",
              "  <thead>\n",
              "    <tr style=\"text-align: right;\">\n",
              "      <th></th>\n",
              "      <th>Marks_1</th>\n",
              "      <th>Marks_2</th>\n",
              "      <th>Result</th>\n",
              "    </tr>\n",
              "  </thead>\n",
              "  <tbody>\n",
              "    <tr>\n",
              "      <th>0</th>\n",
              "      <td>34.623660</td>\n",
              "      <td>78.024693</td>\n",
              "      <td>0</td>\n",
              "    </tr>\n",
              "    <tr>\n",
              "      <th>1</th>\n",
              "      <td>30.286711</td>\n",
              "      <td>43.894998</td>\n",
              "      <td>0</td>\n",
              "    </tr>\n",
              "    <tr>\n",
              "      <th>2</th>\n",
              "      <td>35.847409</td>\n",
              "      <td>72.902198</td>\n",
              "      <td>0</td>\n",
              "    </tr>\n",
              "    <tr>\n",
              "      <th>3</th>\n",
              "      <td>60.182599</td>\n",
              "      <td>86.308552</td>\n",
              "      <td>1</td>\n",
              "    </tr>\n",
              "    <tr>\n",
              "      <th>4</th>\n",
              "      <td>79.032736</td>\n",
              "      <td>75.344376</td>\n",
              "      <td>1</td>\n",
              "    </tr>\n",
              "  </tbody>\n",
              "</table>\n",
              "</div>"
            ],
            "text/plain": [
              "     Marks_1    Marks_2  Result\n",
              "0  34.623660  78.024693       0\n",
              "1  30.286711  43.894998       0\n",
              "2  35.847409  72.902198       0\n",
              "3  60.182599  86.308552       1\n",
              "4  79.032736  75.344376       1"
            ]
          },
          "metadata": {
            "tags": []
          },
          "execution_count": 15
        }
      ]
    },
    {
      "cell_type": "code",
      "metadata": {
        "id": "oxiVfVf-ufBT",
        "colab_type": "code",
        "colab": {
          "base_uri": "https://localhost:8080/",
          "height": 190
        },
        "outputId": "3de5a333-6404-4434-9e31-7ec5b1a62b09"
      },
      "source": [
        "data.info()"
      ],
      "execution_count": 16,
      "outputs": [
        {
          "output_type": "stream",
          "text": [
            "<class 'pandas.core.frame.DataFrame'>\n",
            "RangeIndex: 100 entries, 0 to 99\n",
            "Data columns (total 3 columns):\n",
            " #   Column   Non-Null Count  Dtype  \n",
            "---  ------   --------------  -----  \n",
            " 0   Marks_1  100 non-null    float64\n",
            " 1   Marks_2  100 non-null    float64\n",
            " 2   Result   100 non-null    int64  \n",
            "dtypes: float64(2), int64(1)\n",
            "memory usage: 2.5 KB\n"
          ],
          "name": "stdout"
        }
      ]
    },
    {
      "cell_type": "markdown",
      "metadata": {
        "id": "agMrB3Lg7rYd",
        "colab_type": "text"
      },
      "source": [
        "## Logistic regression class"
      ]
    },
    {
      "cell_type": "code",
      "metadata": {
        "id": "GafovKuduiL6",
        "colab_type": "code",
        "colab": {}
      },
      "source": [
        "class LogisticRegression():\n",
        "  def __init__(self,W=0,b=0,epochs=100000,alpha=0.001):\n",
        "    self.epochs = epochs\n",
        "    self.W = W\n",
        "    self.b = b\n",
        "    self.alpha = alpha\n",
        "  def sigmoid(self,trainx,weight,bias):\n",
        "    z = np.dot(trainx,weight) + bias\n",
        "    return 1/(1 + np.exp(-z))\n",
        "  def loss(self,h,y):\n",
        "    return (-y*np.log(h) - (1-y)*np.log(1-h)).mean()\n",
        "  def grad_descent(self,trainx,h,y):\n",
        "    return np.dot(trainx.T,(h-y))/y.shape[0],(h-y)/y.shape[0]\n",
        "  def update_weights(self,weight,alpha,grad):\n",
        "    return weight - alpha*grad\n",
        "  def update_bias(self,bias,alpha,grad_b):\n",
        "    return bias - alpha*grad_b\n",
        "  def fit(self,trainx,trainy):\n",
        "    self.W = np.zeros(trainx.shape[1])\n",
        "    for i in range(self.epochs):\n",
        "      h = self.sigmoid(trainx,self.W,self.b)\n",
        "      grad_desc1,grad_desc2 = self.grad_descent(trainx,h,trainy)\n",
        "      self.W = self.update_weights(self.W,self.alpha,grad_desc1)\n",
        "      self.b = self.update_bias(self.b,self.alpha,grad_desc2)\n",
        "    return self\n",
        "  def predict(self,testx):\n",
        "    y = self.sigmoid(testx,self.W,self.b)\n",
        "    for i in range(len(y)):\n",
        "      if y[i] > 0.5:\n",
        "        y[i] = 1\n",
        "      else:\n",
        "        y[i] = 0\n",
        "    return y"
      ],
      "execution_count": 44,
      "outputs": []
    },
    {
      "cell_type": "code",
      "metadata": {
        "id": "k8hVnsS1Ok1j",
        "colab_type": "code",
        "colab": {
          "base_uri": "https://localhost:8080/",
          "height": 34
        },
        "outputId": "574deb0d-761b-4a61-ee66-d081e08eebc5"
      },
      "source": [
        "# Test\n",
        "X = np.array(data.iloc[:,:2].values)\n",
        "y = np.array(data.iloc[:,-1].values)\n",
        "trainx,testx,trainy,testy = train_test_split(X,y,test_size=0.1,random_state=3)\n",
        "\n",
        "log_reg = LogisticRegression(epochs=100000,alpha=0.001)\n",
        "log_reg.fit(trainx,trainy)\n",
        "y_pred = log_reg.predict(testx)\n",
        "accuracy_score(y_pred,testy)"
      ],
      "execution_count": 47,
      "outputs": [
        {
          "output_type": "execute_result",
          "data": {
            "text/plain": [
              "0.8"
            ]
          },
          "metadata": {
            "tags": []
          },
          "execution_count": 47
        }
      ]
    },
    {
      "cell_type": "code",
      "metadata": {
        "id": "UcBrLzCFWhcf",
        "colab_type": "code",
        "colab": {}
      },
      "source": [
        ""
      ],
      "execution_count": null,
      "outputs": []
    }
  ]
}
