{
  "nbformat": 4,
  "nbformat_minor": 0,
  "metadata": {
    "colab": {
      "name": "Logistic_Regression_3.ipynb",
      "provenance": [],
      "collapsed_sections": [],
      "toc_visible": true
    },
    "kernelspec": {
      "name": "python3",
      "display_name": "Python 3"
    }
  },
  "cells": [
    {
      "cell_type": "code",
      "metadata": {
        "id": "xdJQNMmBsiDP",
        "colab_type": "code",
        "colab": {}
      },
      "source": [
        "import pandas as pd\n",
        "import numpy as np\n",
        "from math import pow\n",
        "import matplotlib as ml\n",
        "import matplotlib.pyplot as plt\n",
        "import seaborn as sns\n",
        "%matplotlib inline\n",
        "ml.style.use('fivethirtyeight')\n",
        "\n",
        "from sklearn.model_selection import train_test_split,cross_val_score\n",
        "from sklearn.metrics import accuracy_score"
      ],
      "execution_count": 51,
      "outputs": []
    },
    {
      "cell_type": "code",
      "metadata": {
        "id": "LkznxxqZuZ9V",
        "colab_type": "code",
        "colab": {
          "base_uri": "https://localhost:8080/",
          "height": 202
        },
        "outputId": "e3d793c2-c076-4f40-9c0b-9fabb5a8a1ec"
      },
      "source": [
        "data = pd.read_csv('/content/drive/My Drive/dataset.csv')\n",
        "data.head()"
      ],
      "execution_count": 52,
      "outputs": [
        {
          "output_type": "execute_result",
          "data": {
            "text/html": [
              "<div>\n",
              "<style scoped>\n",
              "    .dataframe tbody tr th:only-of-type {\n",
              "        vertical-align: middle;\n",
              "    }\n",
              "\n",
              "    .dataframe tbody tr th {\n",
              "        vertical-align: top;\n",
              "    }\n",
              "\n",
              "    .dataframe thead th {\n",
              "        text-align: right;\n",
              "    }\n",
              "</style>\n",
              "<table border=\"1\" class=\"dataframe\">\n",
              "  <thead>\n",
              "    <tr style=\"text-align: right;\">\n",
              "      <th></th>\n",
              "      <th>Marks_1</th>\n",
              "      <th>Marks_2</th>\n",
              "      <th>Result</th>\n",
              "    </tr>\n",
              "  </thead>\n",
              "  <tbody>\n",
              "    <tr>\n",
              "      <th>0</th>\n",
              "      <td>34.623660</td>\n",
              "      <td>78.024693</td>\n",
              "      <td>0</td>\n",
              "    </tr>\n",
              "    <tr>\n",
              "      <th>1</th>\n",
              "      <td>30.286711</td>\n",
              "      <td>43.894998</td>\n",
              "      <td>0</td>\n",
              "    </tr>\n",
              "    <tr>\n",
              "      <th>2</th>\n",
              "      <td>35.847409</td>\n",
              "      <td>72.902198</td>\n",
              "      <td>0</td>\n",
              "    </tr>\n",
              "    <tr>\n",
              "      <th>3</th>\n",
              "      <td>60.182599</td>\n",
              "      <td>86.308552</td>\n",
              "      <td>1</td>\n",
              "    </tr>\n",
              "    <tr>\n",
              "      <th>4</th>\n",
              "      <td>79.032736</td>\n",
              "      <td>75.344376</td>\n",
              "      <td>1</td>\n",
              "    </tr>\n",
              "  </tbody>\n",
              "</table>\n",
              "</div>"
            ],
            "text/plain": [
              "     Marks_1    Marks_2  Result\n",
              "0  34.623660  78.024693       0\n",
              "1  30.286711  43.894998       0\n",
              "2  35.847409  72.902198       0\n",
              "3  60.182599  86.308552       1\n",
              "4  79.032736  75.344376       1"
            ]
          },
          "metadata": {
            "tags": []
          },
          "execution_count": 52
        }
      ]
    },
    {
      "cell_type": "code",
      "metadata": {
        "id": "oxiVfVf-ufBT",
        "colab_type": "code",
        "colab": {
          "base_uri": "https://localhost:8080/",
          "height": 190
        },
        "outputId": "83506c19-d9b7-4949-c288-c52cb2930784"
      },
      "source": [
        "data.info()"
      ],
      "execution_count": 53,
      "outputs": [
        {
          "output_type": "stream",
          "text": [
            "<class 'pandas.core.frame.DataFrame'>\n",
            "RangeIndex: 100 entries, 0 to 99\n",
            "Data columns (total 3 columns):\n",
            " #   Column   Non-Null Count  Dtype  \n",
            "---  ------   --------------  -----  \n",
            " 0   Marks_1  100 non-null    float64\n",
            " 1   Marks_2  100 non-null    float64\n",
            " 2   Result   100 non-null    int64  \n",
            "dtypes: float64(2), int64(1)\n",
            "memory usage: 2.5 KB\n"
          ],
          "name": "stdout"
        }
      ]
    },
    {
      "cell_type": "markdown",
      "metadata": {
        "id": "agMrB3Lg7rYd",
        "colab_type": "text"
      },
      "source": [
        "## Logistic regression class"
      ]
    },
    {
      "cell_type": "code",
      "metadata": {
        "id": "GafovKuduiL6",
        "colab_type": "code",
        "colab": {}
      },
      "source": [
        "class LogisticRegression():\n",
        "  def __init__(self,penalty='none',C=0.01,W=0,b=0,epochs=100000,alpha=0.001):\n",
        "    self.penalty = penalty\n",
        "    self.C = C\n",
        "    self.epochs = epochs\n",
        "    self.W = W\n",
        "    self.b = b\n",
        "    self.alpha = alpha\n",
        "  def sigmoid(self,trainx,weight,bias):\n",
        "    z = np.dot(trainx,weight) + bias\n",
        "    return 1/(1 + np.exp(-z))\n",
        "  def loss(self,h,y):\n",
        "    if self.penalty == 'none':\n",
        "      return (-y*np.log(h) - (1-y)*np.log(1-h)).mean()\n",
        "    elif self.penalty == 'l1':\n",
        "      return (-y*np.log(h) - (1-y)*np.log(1-h)).mean() + ((1/self.C)*(sum(abs(self.W))))/(2*y.shape[0])\n",
        "    else:\n",
        "      return (-y*np.log(h) - (1-y)*np.log(1-h)).mean() + ((1/self.C)*(sum(self.W**2)))/(2*y.shape[0])\n",
        "  def grad_descent(self,trainx,h,y):\n",
        "    if self.penalty == 'none':\n",
        "      return np.dot(trainx.T,(h-y))/y.shape[0],(h-y)/y.shape[0]\n",
        "    elif self.penalty == 'l1':\n",
        "      l = (1/self.C)\n",
        "      return (np.dot(trainx.T,(h-y)) + (l/2))/y.shape[0],(h-y)/y.shape[0]\n",
        "    else:\n",
        "      l = (1/self.C)\n",
        "      return (np.dot(trainx.T,(h-y)) + (l*self.W))/y.shape[0],(h-y)/y.shape[0]\n",
        "  def update_weights(self,weight,alpha,grad):\n",
        "    return weight - alpha*grad\n",
        "  def update_bias(self,bias,alpha,grad_b):\n",
        "    return bias - alpha*grad_b\n",
        "  def fit(self,trainx,trainy):\n",
        "    self.W = np.zeros(trainx.shape[1])\n",
        "    for i in range(self.epochs):\n",
        "      h = self.sigmoid(trainx,self.W,self.b)\n",
        "      grad_desc1,grad_desc2 = self.grad_descent(trainx,h,trainy)\n",
        "      self.W = self.update_weights(self.W,self.alpha,grad_desc1)\n",
        "      self.b = self.update_bias(self.b,self.alpha,grad_desc2)\n",
        "    cost = self.loss(h,trainy)\n",
        "    return self,self.W,cost\n",
        "  def predict(self,testx):\n",
        "    y = self.sigmoid(testx,self.W,self.b)\n",
        "    for i in range(len(y)):\n",
        "      if y[i] > 0.5:\n",
        "        y[i] = 1\n",
        "      else:\n",
        "        y[i] = 0\n",
        "    return y,self.W"
      ],
      "execution_count": 54,
      "outputs": []
    },
    {
      "cell_type": "code",
      "metadata": {
        "id": "k8hVnsS1Ok1j",
        "colab_type": "code",
        "colab": {}
      },
      "source": [
        "# Test\n",
        "X = np.array(data.iloc[:,:2].values)\n",
        "y = np.array(data.iloc[:,-1].values)\n",
        "trainx,testx,trainy,testy = train_test_split(X,y,test_size=0.1,random_state=3)\n",
        "\n",
        "# L1 REGULARIZATION\n",
        "log_reg = LogisticRegression(penalty='l1',epochs=100000,alpha=0.001)\n",
        "_,w,c = log_reg.fit(trainx,trainy)"
      ],
      "execution_count": 55,
      "outputs": []
    },
    {
      "cell_type": "code",
      "metadata": {
        "id": "UcBrLzCFWhcf",
        "colab_type": "code",
        "colab": {
          "base_uri": "https://localhost:8080/",
          "height": 34
        },
        "outputId": "37f6aedb-a1a6-4c89-b899-215e2aa40dcb"
      },
      "source": [
        "w"
      ],
      "execution_count": 56,
      "outputs": [
        {
          "output_type": "execute_result",
          "data": {
            "text/plain": [
              "array([ 0.01162761, -0.00229155])"
            ]
          },
          "metadata": {
            "tags": []
          },
          "execution_count": 56
        }
      ]
    },
    {
      "cell_type": "code",
      "metadata": {
        "id": "iggeoEX8B9jp",
        "colab_type": "code",
        "colab": {
          "base_uri": "https://localhost:8080/",
          "height": 34
        },
        "outputId": "12948609-0155-4be6-9cd9-e07f76360d93"
      },
      "source": [
        "c"
      ],
      "execution_count": 57,
      "outputs": [
        {
          "output_type": "execute_result",
          "data": {
            "text/plain": [
              "0.4527962263117525"
            ]
          },
          "metadata": {
            "tags": []
          },
          "execution_count": 57
        }
      ]
    },
    {
      "cell_type": "code",
      "metadata": {
        "id": "IZKfsYuN_DPX",
        "colab_type": "code",
        "colab": {}
      },
      "source": [
        "# L2 REGULARIZATION\n",
        "log_reg2 = LogisticRegression(penalty='l2',epochs=100000,alpha=0.001)\n",
        "_,w2,c2 = log_reg2.fit(trainx,trainy)"
      ],
      "execution_count": 58,
      "outputs": []
    },
    {
      "cell_type": "code",
      "metadata": {
        "id": "4Pr2RpGJ_J7B",
        "colab_type": "code",
        "colab": {
          "base_uri": "https://localhost:8080/",
          "height": 34
        },
        "outputId": "20431af6-cdd3-4644-ce9e-81465ac03f3b"
      },
      "source": [
        "w2"
      ],
      "execution_count": 59,
      "outputs": [
        {
          "output_type": "execute_result",
          "data": {
            "text/plain": [
              "array([ 0.01185819, -0.00179029])"
            ]
          },
          "metadata": {
            "tags": []
          },
          "execution_count": 59
        }
      ]
    },
    {
      "cell_type": "code",
      "metadata": {
        "id": "r9EgDy1b_OsF",
        "colab_type": "code",
        "colab": {
          "base_uri": "https://localhost:8080/",
          "height": 34
        },
        "outputId": "424c5157-e724-4c16-cc0a-6ef21840933d"
      },
      "source": [
        "c2"
      ],
      "execution_count": 60,
      "outputs": [
        {
          "output_type": "execute_result",
          "data": {
            "text/plain": [
              "0.44477799174247973"
            ]
          },
          "metadata": {
            "tags": []
          },
          "execution_count": 60
        }
      ]
    }
  ]
}